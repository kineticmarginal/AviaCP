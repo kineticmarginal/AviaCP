{
 "cells": [
  {
   "cell_type": "markdown",
   "id": "0a5bd78d-903a-4459-bdd2-591087c75743",
   "metadata": {},
   "source": [
    "# Import modules"
   ]
  },
  {
   "cell_type": "code",
   "execution_count": 1,
   "id": "a39af1bc-acc9-4f1d-b78a-783bdafa3565",
   "metadata": {},
   "outputs": [
    {
     "data": {
      "text/plain": [
       "[PhysicalDevice(name='/physical_device:GPU:0', device_type='GPU')]"
      ]
     },
     "execution_count": 1,
     "metadata": {},
     "output_type": "execute_result"
    }
   ],
   "source": [
    "import os\n",
    "import shutil\n",
    "from tqdm import tqdm\n",
    "from random import shuffle\n",
    "import numpy as np\n",
    "import pandas as pd\n",
    "import matplotlib.pyplot as plt\n",
    "import cv2\n",
    "\n",
    "from keras import backend as K\n",
    "import random\n",
    "import albumentations as A\n",
    "from sklearn.model_selection import *\n",
    "\n",
    "import tensorflow as tf\n",
    "from tensorflow.keras.layers import *\n",
    "from tensorflow.keras.optimizers import *\n",
    "from tensorflow.keras.models import *\n",
    "from tensorflow.keras.preprocessing.image import *\n",
    "from tensorflow.keras.callbacks import *\n",
    "from tensorflow.keras.applications.efficientnet import *\n",
    "\n",
    "tf.config.list_physical_devices('GPU')"
   ]
  },
  {
   "cell_type": "markdown",
   "id": "cf1baddc-579b-44dd-b5da-48bdecf4e936",
   "metadata": {},
   "source": [
    "# Load data"
   ]
  },
  {
   "cell_type": "code",
   "execution_count": 2,
   "id": "58763f9f-f6a8-4602-b225-9c70c61a1893",
   "metadata": {
    "cellId": "8xjt7wblvf5k433f0x485d"
   },
   "outputs": [],
   "source": [
    "train = pd.read_csv('train.csv')\n",
    "test = pd.read_csv('test_extended.csv')\n",
    "sample_sub = pd.read_csv('sample_submission_extended.csv')"
   ]
  },
  {
   "cell_type": "code",
   "execution_count": 3,
   "id": "16f1991c-aaf0-4561-9707-57805a32d903",
   "metadata": {},
   "outputs": [],
   "source": [
    "imgs_ex = [img.split('.')[0] for img in os.listdir('avia-test-extended-try/')]\n",
    "imgs_ex_zero = [img.split('.')[0] for img in os.listdir('avia-test-extended/')]\n",
    "imgs = [img.split('.')[0] for img in os.listdir('avia-test/')]"
   ]
  },
  {
   "cell_type": "code",
   "execution_count": 4,
   "id": "c1f6253a-acbb-4335-9b1e-984e588a3c9b",
   "metadata": {
    "cellId": "tsb63qqfyl8qq2x32jqd5"
   },
   "outputs": [],
   "source": [
    "train['path'] = train.filename.apply(lambda x: 'avia-train/'+x+'.png')\n",
    "test['path'] = ''\n",
    "test['path'].iloc[:1000] = test.filename.iloc[:1000].apply(lambda x: 'avia-test/'+x+'.png')\n",
    "\n",
    "test.loc[test.filename.isin(imgs_ex), 'path'] \\\n",
    "    = test.loc[test.filename.isin(imgs_ex), 'filename'].apply(lambda x: 'avia-test-extended-try/'+x+'.jpeg')\n",
    "test.loc[test.filename.isin(imgs_ex_zero), 'path'] \\\n",
    "    = test.loc[test.filename.isin(imgs_ex_zero), 'filename'].apply(lambda x: 'avia-test-extended/'+x+'.jpeg')"
   ]
  },
  {
   "cell_type": "code",
   "execution_count": 5,
   "id": "466dd3c1-1628-4f98-8c64-0789e584964f",
   "metadata": {
    "cellId": "fzrzzdj2yqfwp9usezsrvf"
   },
   "outputs": [],
   "source": [
    "def augment_image(image):\n",
    "\n",
    "    aug = A.Compose([\n",
    "        \n",
    "        A.VerticalFlip(p=0.5),\n",
    "        A.RandomRotate90(p=0.5),\n",
    "        A.Rotate(p=0.5),\n",
    "        A.FancyPCA(p=0.5),\n",
    "        A.RandomBrightnessContrast(p=0.5),\n",
    "    \n",
    "    ])\n",
    "\n",
    "    augmented = aug(image=image)\n",
    "\n",
    "    return augmented['image'] "
   ]
  },
  {
   "cell_type": "code",
   "execution_count": 6,
   "id": "1d56d81a-64ac-4c7d-989c-3e02d766ff30",
   "metadata": {
    "cellId": "alujcdnj8wsuykdfqvzg0h"
   },
   "outputs": [],
   "source": [
    "#!g1.1\n",
    "class CustomDataGen(tf.keras.utils.Sequence):\n",
    "    \n",
    "    def __init__(self, df,\n",
    "                 augment=True,\n",
    "                 batch_size=16,\n",
    "                 input_shape=(32, 32, 3),\n",
    "                 shuffle=True):\n",
    "        \n",
    "        self.paths = df.path.values\n",
    "        self.labels = df.sign.values\n",
    "        self.augment = augment\n",
    "        self.batch_size = batch_size\n",
    "        self.input_shape = input_shape\n",
    "        self.shuffle = shuffle\n",
    "        self.n = len(self.paths)\n",
    "        self.on_epoch_end()\n",
    "        \n",
    "    \n",
    "    def on_epoch_end(self):\n",
    "        \n",
    "        self.indexes = np.arange(len(self.paths))\n",
    "        if self.shuffle == True:\n",
    "            np.random.shuffle(self.indexes)\n",
    "\n",
    "    \n",
    "    def __load_data(self, paths, labels):\n",
    "    \n",
    "        X_batch = []\n",
    "        y_batch = []\n",
    "        \n",
    "        i = 0\n",
    "        \n",
    "        for path, label in zip(paths, labels):\n",
    "                \n",
    "            X = cv2.imread(path).copy()\n",
    "            \n",
    "            if self.augment:\n",
    "                X = augment_image(X)\n",
    "            \n",
    "            X2 = X / 255.\n",
    "            \n",
    "            X_batch.append(X2)\n",
    "            \n",
    "            y = np.zeros((2))\n",
    "            y[label] = 1\n",
    "            y_batch.append(y)\n",
    "            \n",
    "            i += 1\n",
    "            \n",
    "        return np.array(X_batch, dtype=float), np.array(y_batch, dtype=float)\n",
    "    \n",
    "    \n",
    "    def __getitem__(self, index):\n",
    "        \n",
    "        indexes = self.indexes[index*self.batch_size:(index+1)*self.batch_size]\n",
    "        X, y = self.__load_data([self.paths[i] for i in indexes],\n",
    "                                [self.labels[i] for i in indexes])        \n",
    "        \n",
    "        return X, y\n",
    "    \n",
    "    \n",
    "    def __len__(self):\n",
    "        \n",
    "        return int(np.floor(len(self.paths) / self.batch_size))"
   ]
  },
  {
   "cell_type": "code",
   "execution_count": 7,
   "id": "6ea48005-7496-4cea-bdf8-bbd41dfd8e9a",
   "metadata": {
    "cellId": "sufnognpp2qh7vpx68uyr4",
    "tags": []
   },
   "outputs": [
    {
     "data": {
      "image/png": "[encoded data removed]",
      "text/plain": [
       "<Figure size 1440x216 with 1 Axes>"
      ]
     },
     "metadata": {
      "needs_background": "light"
     },
     "output_type": "display_data"
    },
    {
     "data": {
      "image/png": "[encoded data removed]",
      "text/plain": [
       "<Figure size 1440x216 with 1 Axes>"
      ]
     },
     "metadata": {
      "needs_background": "light"
     },
     "output_type": "display_data"
    },
    {
     "data": {
      "image/png": "[encoded data removed]",
      "text/plain": [
       "<Figure size 1440x216 with 1 Axes>"
      ]
     },
     "metadata": {
      "needs_background": "light"
     },
     "output_type": "display_data"
    },
    {
     "data": {
      "image/png": "[encoded data removed]",
      "text/plain": [
       "<Figure size 1440x216 with 1 Axes>"
      ]
     },
     "metadata": {
      "needs_background": "light"
     },
     "output_type": "display_data"
    }
   ],
   "source": [
    "traingen = CustomDataGen(train, batch_size=4, input_shape=(32, 32, 3))\n",
    "\n",
    "for x, y in traingen:\n",
    "    break\n",
    "\n",
    "i = 0\n",
    "    \n",
    "for xx, yy in zip(x, y):\n",
    "\n",
    "    _, ax = plt.subplots(1, 1, figsize=(20, 3))\n",
    "    ax.imshow(xx[:, :])\n",
    "    plt.suptitle(str(i)+' '+str(yy))\n",
    "    plt.show()\n"
   ]
  },
  {
   "cell_type": "code",
   "execution_count": 8,
   "id": "3ffee463-7db0-4e16-9d11-fa4cfbb8f58e",
   "metadata": {},
   "outputs": [
    {
     "data": {
      "text/plain": [
       "(20, 20, 3)"
      ]
     },
     "execution_count": 8,
     "metadata": {},
     "output_type": "execute_result"
    }
   ],
   "source": [
    "xx.shape"
   ]
  },
  {
   "cell_type": "markdown",
   "id": "f007c6eb-ade3-46b2-8254-90b0c9d0af61",
   "metadata": {},
   "source": [
    "# Train model"
   ]
  },
  {
   "cell_type": "code",
   "execution_count": 315,
   "id": "c223f48d-8f5b-4f5a-a391-a4ad886b3da1",
   "metadata": {},
   "outputs": [],
   "source": [
    "def create_model(input_shape=(20, 20, 3)):\n",
    "\n",
    "    cnn4 = Sequential()\n",
    "    cnn4.add(Conv2D(32, kernel_size=(3, 3), activation='relu', input_shape=input_shape))\n",
    "    cnn4.add(BatchNormalization())\n",
    "    \n",
    "    cnn4.add(Conv2D(32, kernel_size=(3, 3), activation='relu'))\n",
    "    cnn4.add(BatchNormalization())\n",
    "    cnn4.add(MaxPooling2D(pool_size=(2, 2)))\n",
    "    cnn4.add(Dropout(0.5))\n",
    "    \n",
    "    cnn4.add(Conv2D(64, kernel_size=(3, 3), activation='relu'))\n",
    "    cnn4.add(BatchNormalization())\n",
    "    cnn4.add(Dropout(0.5))\n",
    "    \n",
    "    cnn4.add(Conv2D(128, kernel_size=(3, 3), activation='relu'))\n",
    "    cnn4.add(BatchNormalization())\n",
    "    cnn4.add(MaxPooling2D(pool_size=(2, 2)))\n",
    "    cnn4.add(Dropout(0.5))\n",
    "    \n",
    "    cnn4.add(Flatten())\n",
    "    \n",
    "    cnn4.add(Dense(512, activation='relu'))\n",
    "    cnn4.add(BatchNormalization())\n",
    "    cnn4.add(Dropout(0.5))\n",
    "    \n",
    "    cnn4.add(Dense(128, activation='relu'))\n",
    "    cnn4.add(BatchNormalization())\n",
    "    cnn4.add(Dropout(0.5))\n",
    "    \n",
    "    cnn4.add(Dense(2, activation='softmax'))\n",
    "    \n",
    "    return cnn4"
   ]
  },
  {
   "cell_type": "code",
   "execution_count": 316,
   "id": "ed8475a5-3a8a-4585-8403-b15bde6ae7e2",
   "metadata": {},
   "outputs": [],
   "source": [
    "K.clear_session()\n",
    "\n",
    "model = create_model((20, 20, 3))\n",
    "\n",
    "# model = load_model('models/check2/model_4conv_b_s_testonbest.h5')\n",
    "\n",
    "metrics = [\n",
    "    'accuracy',\n",
    "    'AUC'\n",
    "]\n",
    "\n",
    "model.compile(optimizer=Adam(), loss='binary_crossentropy', metrics=metrics)"
   ]
  },
  {
   "cell_type": "code",
   "execution_count": 317,
   "id": "aeb0cd36-3e21-4185-81ce-787849eb27d8",
   "metadata": {
    "tags": []
   },
   "outputs": [
    {
     "name": "stdout",
     "output_type": "stream",
     "text": [
      "Model: \"sequential\"\n",
      "_________________________________________________________________\n",
      "Layer (type)                 Output Shape              Param #   \n",
      "=================================================================\n",
      "conv2d (Conv2D)              (None, 18, 18, 32)        896       \n",
      "_________________________________________________________________\n",
      "batch_normalization (BatchNo (None, 18, 18, 32)        128       \n",
      "_________________________________________________________________\n",
      "conv2d_1 (Conv2D)            (None, 16, 16, 32)        9248      \n",
      "_________________________________________________________________\n",
      "batch_normalization_1 (Batch (None, 16, 16, 32)        128       \n",
      "_________________________________________________________________\n",
      "max_pooling2d (MaxPooling2D) (None, 8, 8, 32)          0         \n",
      "_________________________________________________________________\n",
      "dropout (Dropout)            (None, 8, 8, 32)          0         \n",
      "_________________________________________________________________\n",
      "conv2d_2 (Conv2D)            (None, 6, 6, 64)          18496     \n",
      "_________________________________________________________________\n",
      "batch_normalization_2 (Batch (None, 6, 6, 64)          256       \n",
      "_________________________________________________________________\n",
      "dropout_1 (Dropout)          (None, 6, 6, 64)          0         \n",
      "_________________________________________________________________\n",
      "conv2d_3 (Conv2D)            (None, 4, 4, 128)         73856     \n",
      "_________________________________________________________________\n",
      "batch_normalization_3 (Batch (None, 4, 4, 128)         512       \n",
      "_________________________________________________________________\n",
      "max_pooling2d_1 (MaxPooling2 (None, 2, 2, 128)         0         \n",
      "_________________________________________________________________\n",
      "dropout_2 (Dropout)          (None, 2, 2, 128)         0         \n",
      "_________________________________________________________________\n",
      "flatten (Flatten)            (None, 512)               0         \n",
      "_________________________________________________________________\n",
      "dense (Dense)                (None, 512)               262656    \n",
      "_________________________________________________________________\n",
      "batch_normalization_4 (Batch (None, 512)               2048      \n",
      "_________________________________________________________________\n",
      "dropout_3 (Dropout)          (None, 512)               0         \n",
      "_________________________________________________________________\n",
      "dense_1 (Dense)              (None, 128)               65664     \n",
      "_________________________________________________________________\n",
      "batch_normalization_5 (Batch (None, 128)               512       \n",
      "_________________________________________________________________\n",
      "dropout_4 (Dropout)          (None, 128)               0         \n",
      "_________________________________________________________________\n",
      "dense_2 (Dense)              (None, 2)                 258       \n",
      "=================================================================\n",
      "Total params: 434,658\n",
      "Trainable params: 432,866\n",
      "Non-trainable params: 1,792\n",
      "_________________________________________________________________\n"
     ]
    }
   ],
   "source": [
    "model.summary()"
   ]
  },
  {
   "cell_type": "code",
   "execution_count": 318,
   "id": "5a9758fa-16a3-446f-b0af-0180e317f91a",
   "metadata": {},
   "outputs": [],
   "source": [
    "train_df, val_df = train_test_split(train, test_size=0.15)\n",
    "\n",
    "traingen = CustomDataGen(train_df, batch_size=128)\n",
    "valgen = CustomDataGen(val_df, batch_size=128, augment=False)"
   ]
  },
  {
   "cell_type": "code",
   "execution_count": 319,
   "id": "a3af6723-6d83-4dcc-818b-cf941c763fb3",
   "metadata": {},
   "outputs": [],
   "source": [
    "checkpoint_path = 'models/check6/model1.h5'\n",
    "# checkpoint_dir = os.path.dirname(checkpoint_path)\n",
    "# if os.path.exists(checkpoint_dir):\n",
    "#         shutil.rmtree(checkpoint_dir)\n",
    "# os.makedirs(checkpoint_dir)\n",
    "\n",
    "callbacks = [\n",
    "    EarlyStopping(monitor='val_loss', mode='min', patience=16, verbose=1),\n",
    "    ReduceLROnPlateau(monitor='val_loss', mode='min', factor=0.1, patience=7, min_lr=0.000001, verbose=1),\n",
    "    ModelCheckpoint(monitor='val_loss', mode='min', filepath=checkpoint_path, verbose=1, save_best_only=True, save_weights_only=False)\n",
    "]"
   ]
  },
  {
   "cell_type": "code",
   "execution_count": 320,
   "id": "2e0ce97a-0429-44e7-9d4f-b83ca0819986",
   "metadata": {
    "collapsed": true,
    "jupyter": {
     "outputs_hidden": true
    },
    "tags": []
   },
   "outputs": [
    {
     "name": "stdout",
     "output_type": "stream",
     "text": [
      "Epoch 1/100\n",
      "206/206 [==============================] - 10s 44ms/step - loss: 0.5347 - accuracy: 0.7901 - auc: 0.8558 - val_loss: 0.7667 - val_accuracy: 0.7496 - val_auc: 0.7572\n",
      "\n",
      "Epoch 00001: val_loss improved from inf to 0.76673, saving model to models/check6/model1.h5\n",
      "Epoch 2/100\n",
      "206/206 [==============================] - 7s 36ms/step - loss: 0.3163 - accuracy: 0.8748 - auc: 0.9395 - val_loss: 0.8780 - val_accuracy: 0.7496 - val_auc: 0.7701\n",
      "\n",
      "Epoch 00002: val_loss did not improve from 0.76673\n",
      "Epoch 3/100\n",
      "206/206 [==============================] - 7s 32ms/step - loss: 0.2567 - accuracy: 0.8958 - auc: 0.9579 - val_loss: 0.5439 - val_accuracy: 0.8014 - val_auc: 0.8743\n",
      "\n",
      "Epoch 00003: val_loss improved from 0.76673 to 0.54394, saving model to models/check6/model1.h5\n",
      "Epoch 4/100\n",
      "206/206 [==============================] - 7s 32ms/step - loss: 0.2286 - accuracy: 0.9072 - auc: 0.9649 - val_loss: 0.2073 - val_accuracy: 0.9065 - val_auc: 0.9688\n",
      "\n",
      "Epoch 00004: val_loss improved from 0.54394 to 0.20735, saving model to models/check6/model1.h5\n",
      "Epoch 5/100\n",
      "206/206 [==============================] - 7s 32ms/step - loss: 0.2060 - accuracy: 0.9182 - auc: 0.9706 - val_loss: 0.1809 - val_accuracy: 0.9277 - val_auc: 0.9738\n",
      "\n",
      "Epoch 00005: val_loss improved from 0.20735 to 0.18089, saving model to models/check6/model1.h5\n",
      "Epoch 6/100\n",
      "206/206 [==============================] - 7s 32ms/step - loss: 0.1960 - accuracy: 0.9194 - auc: 0.9725 - val_loss: 0.4043 - val_accuracy: 0.8720 - val_auc: 0.9211\n",
      "\n",
      "Epoch 00006: val_loss did not improve from 0.18089\n",
      "Epoch 7/100\n",
      "206/206 [==============================] - 7s 32ms/step - loss: 0.1830 - accuracy: 0.9256 - auc: 0.9749 - val_loss: 1.3839 - val_accuracy: 0.7496 - val_auc: 0.7538\n",
      "\n",
      "Epoch 00007: val_loss did not improve from 0.18089\n",
      "Epoch 8/100\n",
      "206/206 [==============================] - 7s 32ms/step - loss: 0.1728 - accuracy: 0.9322 - auc: 0.9776 - val_loss: 0.4116 - val_accuracy: 0.8494 - val_auc: 0.9106\n",
      "\n",
      "Epoch 00008: val_loss did not improve from 0.18089\n",
      "Epoch 9/100\n",
      "206/206 [==============================] - 7s 32ms/step - loss: 0.1614 - accuracy: 0.9340 - auc: 0.9795 - val_loss: 0.6554 - val_accuracy: 0.7980 - val_auc: 0.8511\n",
      "\n",
      "Epoch 00009: val_loss did not improve from 0.18089\n",
      "Epoch 10/100\n",
      "206/206 [==============================] - 7s 32ms/step - loss: 0.1591 - accuracy: 0.9386 - auc: 0.9801 - val_loss: 0.5522 - val_accuracy: 0.8273 - val_auc: 0.8790\n",
      "\n",
      "Epoch 00010: val_loss did not improve from 0.18089\n",
      "Epoch 11/100\n",
      "206/206 [==============================] - 7s 32ms/step - loss: 0.1559 - accuracy: 0.9383 - auc: 0.9804 - val_loss: 1.0946 - val_accuracy: 0.7643 - val_auc: 0.7851\n",
      "\n",
      "Epoch 00011: val_loss did not improve from 0.18089\n",
      "Epoch 12/100\n",
      "206/206 [==============================] - 7s 32ms/step - loss: 0.1489 - accuracy: 0.9414 - auc: 0.9826 - val_loss: 0.4091 - val_accuracy: 0.8422 - val_auc: 0.9124\n",
      "\n",
      "Epoch 00012: ReduceLROnPlateau reducing learning rate to 0.00010000000474974513.\n",
      "\n",
      "Epoch 00012: val_loss did not improve from 0.18089\n",
      "Epoch 13/100\n",
      "206/206 [==============================] - 7s 35ms/step - loss: 0.1369 - accuracy: 0.9474 - auc: 0.9840 - val_loss: 0.0749 - val_accuracy: 0.9731 - val_auc: 0.9947\n",
      "\n",
      "Epoch 00013: val_loss improved from 0.18089 to 0.07490, saving model to models/check6/model1.h5\n",
      "Epoch 14/100\n",
      "206/206 [==============================] - 7s 35ms/step - loss: 0.1360 - accuracy: 0.9471 - auc: 0.9840 - val_loss: 0.0751 - val_accuracy: 0.9711 - val_auc: 0.9949\n",
      "\n",
      "Epoch 00014: val_loss did not improve from 0.07490\n",
      "Epoch 15/100\n",
      "206/206 [==============================] - 7s 34ms/step - loss: 0.1324 - accuracy: 0.9485 - auc: 0.9851 - val_loss: 0.0812 - val_accuracy: 0.9705 - val_auc: 0.9931\n",
      "\n",
      "Epoch 00015: val_loss did not improve from 0.07490\n",
      "Epoch 16/100\n",
      "206/206 [==============================] - 7s 32ms/step - loss: 0.1324 - accuracy: 0.9491 - auc: 0.9854 - val_loss: 0.0722 - val_accuracy: 0.9729 - val_auc: 0.9943\n",
      "\n",
      "Epoch 00016: val_loss improved from 0.07490 to 0.07220, saving model to models/check6/model1.h5\n",
      "Epoch 17/100\n",
      "206/206 [==============================] - 7s 32ms/step - loss: 0.1289 - accuracy: 0.9510 - auc: 0.9853 - val_loss: 0.0680 - val_accuracy: 0.9737 - val_auc: 0.9953\n",
      "\n",
      "Epoch 00017: val_loss improved from 0.07220 to 0.06799, saving model to models/check6/model1.h5\n",
      "Epoch 18/100\n",
      "206/206 [==============================] - 7s 32ms/step - loss: 0.1294 - accuracy: 0.9492 - auc: 0.9860 - val_loss: 0.0711 - val_accuracy: 0.9735 - val_auc: 0.9949\n",
      "\n",
      "Epoch 00018: val_loss did not improve from 0.06799\n",
      "Epoch 19/100\n",
      "206/206 [==============================] - 7s 32ms/step - loss: 0.1261 - accuracy: 0.9520 - auc: 0.9857 - val_loss: 0.0655 - val_accuracy: 0.9766 - val_auc: 0.9958\n",
      "\n",
      "Epoch 00019: val_loss improved from 0.06799 to 0.06548, saving model to models/check6/model1.h5\n",
      "Epoch 20/100\n",
      "206/206 [==============================] - 7s 32ms/step - loss: 0.1253 - accuracy: 0.9516 - auc: 0.9866 - val_loss: 0.0834 - val_accuracy: 0.9677 - val_auc: 0.9934\n",
      "\n",
      "Epoch 00020: val_loss did not improve from 0.06548\n",
      "Epoch 21/100\n",
      "206/206 [==============================] - 7s 32ms/step - loss: 0.1253 - accuracy: 0.9499 - auc: 0.9865 - val_loss: 0.0693 - val_accuracy: 0.9742 - val_auc: 0.9938\n",
      "\n",
      "Epoch 00021: val_loss did not improve from 0.06548\n",
      "Epoch 22/100\n",
      "206/206 [==============================] - 7s 32ms/step - loss: 0.1295 - accuracy: 0.9491 - auc: 0.9853 - val_loss: 0.0704 - val_accuracy: 0.9735 - val_auc: 0.9939\n",
      "\n",
      "Epoch 00022: val_loss did not improve from 0.06548\n",
      "Epoch 23/100\n",
      "206/206 [==============================] - 7s 32ms/step - loss: 0.1238 - accuracy: 0.9508 - auc: 0.9864 - val_loss: 0.0881 - val_accuracy: 0.9659 - val_auc: 0.9924\n",
      "\n",
      "Epoch 00023: val_loss did not improve from 0.06548\n",
      "Epoch 24/100\n",
      "206/206 [==============================] - 7s 32ms/step - loss: 0.1257 - accuracy: 0.9498 - auc: 0.9863 - val_loss: 0.0650 - val_accuracy: 0.9753 - val_auc: 0.9947\n",
      "\n",
      "Epoch 00024: val_loss improved from 0.06548 to 0.06499, saving model to models/check6/model1.h5\n",
      "Epoch 25/100\n",
      "206/206 [==============================] - 7s 32ms/step - loss: 0.1248 - accuracy: 0.9521 - auc: 0.9863 - val_loss: 0.0903 - val_accuracy: 0.9657 - val_auc: 0.9908\n",
      "\n",
      "Epoch 00025: val_loss did not improve from 0.06499\n",
      "Epoch 26/100\n",
      "206/206 [==============================] - 7s 32ms/step - loss: 0.1216 - accuracy: 0.9525 - auc: 0.9868 - val_loss: 0.0663 - val_accuracy: 0.9753 - val_auc: 0.9944\n",
      "\n",
      "Epoch 00026: val_loss did not improve from 0.06499\n",
      "Epoch 27/100\n",
      "206/206 [==============================] - 7s 32ms/step - loss: 0.1256 - accuracy: 0.9517 - auc: 0.9861 - val_loss: 0.0654 - val_accuracy: 0.9763 - val_auc: 0.9944\n",
      "\n",
      "Epoch 00027: val_loss did not improve from 0.06499\n",
      "Epoch 28/100\n",
      "206/206 [==============================] - 7s 32ms/step - loss: 0.1210 - accuracy: 0.9536 - auc: 0.9862 - val_loss: 0.0736 - val_accuracy: 0.9720 - val_auc: 0.9932\n",
      "\n",
      "Epoch 00028: val_loss did not improve from 0.06499\n",
      "Epoch 29/100\n",
      "206/206 [==============================] - 7s 32ms/step - loss: 0.1256 - accuracy: 0.9513 - auc: 0.9862 - val_loss: 0.0690 - val_accuracy: 0.9722 - val_auc: 0.9944\n",
      "\n",
      "Epoch 00029: val_loss did not improve from 0.06499\n",
      "Epoch 30/100\n",
      "206/206 [==============================] - 7s 32ms/step - loss: 0.1200 - accuracy: 0.9530 - auc: 0.9872 - val_loss: 0.0790 - val_accuracy: 0.9705 - val_auc: 0.9929\n",
      "\n",
      "Epoch 00030: val_loss did not improve from 0.06499\n",
      "Epoch 31/100\n",
      "206/206 [==============================] - 7s 32ms/step - loss: 0.1243 - accuracy: 0.9512 - auc: 0.9862 - val_loss: 0.0661 - val_accuracy: 0.9761 - val_auc: 0.9940\n",
      "\n",
      "Epoch 00031: ReduceLROnPlateau reducing learning rate to 1.0000000474974514e-05.\n",
      "\n",
      "Epoch 00031: val_loss did not improve from 0.06499\n",
      "Epoch 32/100\n",
      "206/206 [==============================] - 7s 32ms/step - loss: 0.1191 - accuracy: 0.9546 - auc: 0.9873 - val_loss: 0.0649 - val_accuracy: 0.9744 - val_auc: 0.9949\n",
      "\n",
      "Epoch 00032: val_loss improved from 0.06499 to 0.06488, saving model to models/check6/model1.h5\n",
      "Epoch 33/100\n",
      "206/206 [==============================] - 7s 34ms/step - loss: 0.1190 - accuracy: 0.9547 - auc: 0.9872 - val_loss: 0.0635 - val_accuracy: 0.9761 - val_auc: 0.9950\n",
      "\n",
      "Epoch 00033: val_loss improved from 0.06488 to 0.06346, saving model to models/check6/model1.h5\n",
      "Epoch 34/100\n",
      "206/206 [==============================] - 7s 34ms/step - loss: 0.1203 - accuracy: 0.9530 - auc: 0.9874 - val_loss: 0.0628 - val_accuracy: 0.9761 - val_auc: 0.9952\n",
      "\n",
      "Epoch 00034: val_loss improved from 0.06346 to 0.06278, saving model to models/check6/model1.h5\n",
      "Epoch 35/100\n",
      "206/206 [==============================] - 7s 35ms/step - loss: 0.1184 - accuracy: 0.9538 - auc: 0.9872 - val_loss: 0.0631 - val_accuracy: 0.9753 - val_auc: 0.9950\n",
      "\n",
      "Epoch 00035: val_loss did not improve from 0.06278\n",
      "Epoch 36/100\n",
      "206/206 [==============================] - 7s 33ms/step - loss: 0.1213 - accuracy: 0.9530 - auc: 0.9867 - val_loss: 0.0632 - val_accuracy: 0.9755 - val_auc: 0.9948\n",
      "\n",
      "Epoch 00036: val_loss did not improve from 0.06278\n",
      "Epoch 37/100\n",
      "206/206 [==============================] - 7s 32ms/step - loss: 0.1224 - accuracy: 0.9516 - auc: 0.9862 - val_loss: 0.0630 - val_accuracy: 0.9766 - val_auc: 0.9950\n",
      "\n",
      "Epoch 00037: val_loss did not improve from 0.06278\n",
      "Epoch 38/100\n",
      "206/206 [==============================] - 7s 32ms/step - loss: 0.1220 - accuracy: 0.9515 - auc: 0.9867 - val_loss: 0.0637 - val_accuracy: 0.9748 - val_auc: 0.9947\n",
      "\n",
      "Epoch 00038: val_loss did not improve from 0.06278\n",
      "Epoch 39/100\n",
      "206/206 [==============================] - 7s 32ms/step - loss: 0.1169 - accuracy: 0.9563 - auc: 0.9876 - val_loss: 0.0622 - val_accuracy: 0.9768 - val_auc: 0.9950\n",
      "\n",
      "Epoch 00039: val_loss improved from 0.06278 to 0.06219, saving model to models/check6/model1.h5\n",
      "Epoch 40/100\n",
      "206/206 [==============================] - 7s 35ms/step - loss: 0.1167 - accuracy: 0.9544 - auc: 0.9878 - val_loss: 0.0626 - val_accuracy: 0.9753 - val_auc: 0.9948\n",
      "\n",
      "Epoch 00040: val_loss did not improve from 0.06219\n",
      "Epoch 41/100\n",
      "206/206 [==============================] - 7s 32ms/step - loss: 0.1202 - accuracy: 0.9540 - auc: 0.9872 - val_loss: 0.0611 - val_accuracy: 0.9776 - val_auc: 0.9951\n",
      "\n",
      "Epoch 00041: val_loss improved from 0.06219 to 0.06110, saving model to models/check6/model1.h5\n",
      "Epoch 42/100\n",
      "206/206 [==============================] - 7s 32ms/step - loss: 0.1183 - accuracy: 0.9547 - auc: 0.9874 - val_loss: 0.0624 - val_accuracy: 0.9763 - val_auc: 0.9950\n",
      "\n",
      "Epoch 00042: val_loss did not improve from 0.06110\n",
      "Epoch 43/100\n",
      "206/206 [==============================] - 7s 34ms/step - loss: 0.1191 - accuracy: 0.9540 - auc: 0.9871 - val_loss: 0.0620 - val_accuracy: 0.9776 - val_auc: 0.9950\n",
      "\n",
      "Epoch 00043: val_loss did not improve from 0.06110\n",
      "Epoch 44/100\n",
      "206/206 [==============================] - 7s 34ms/step - loss: 0.1200 - accuracy: 0.9535 - auc: 0.9872 - val_loss: 0.0602 - val_accuracy: 0.9774 - val_auc: 0.9953\n",
      "\n",
      "Epoch 00044: val_loss improved from 0.06110 to 0.06021, saving model to models/check6/model1.h5\n",
      "Epoch 45/100\n",
      "206/206 [==============================] - 7s 32ms/step - loss: 0.1153 - accuracy: 0.9567 - auc: 0.9876 - val_loss: 0.0625 - val_accuracy: 0.9768 - val_auc: 0.9948\n",
      "\n",
      "Epoch 00045: val_loss did not improve from 0.06021\n",
      "Epoch 46/100\n",
      "206/206 [==============================] - 7s 32ms/step - loss: 0.1176 - accuracy: 0.9545 - auc: 0.9874 - val_loss: 0.0622 - val_accuracy: 0.9766 - val_auc: 0.9950\n",
      "\n",
      "Epoch 00046: val_loss did not improve from 0.06021\n",
      "Epoch 47/100\n",
      "206/206 [==============================] - 7s 36ms/step - loss: 0.1157 - accuracy: 0.9544 - auc: 0.9878 - val_loss: 0.0612 - val_accuracy: 0.9770 - val_auc: 0.9949\n",
      "\n",
      "Epoch 00047: val_loss did not improve from 0.06021\n",
      "Epoch 48/100\n",
      "206/206 [==============================] - 7s 36ms/step - loss: 0.1187 - accuracy: 0.9553 - auc: 0.9870 - val_loss: 0.0604 - val_accuracy: 0.9772 - val_auc: 0.9947\n",
      "\n",
      "Epoch 00048: val_loss did not improve from 0.06021\n",
      "Epoch 49/100\n",
      "206/206 [==============================] - 7s 33ms/step - loss: 0.1192 - accuracy: 0.9543 - auc: 0.9866 - val_loss: 0.0610 - val_accuracy: 0.9755 - val_auc: 0.9947\n",
      "\n",
      "Epoch 00049: val_loss did not improve from 0.06021\n",
      "Epoch 50/100\n",
      "206/206 [==============================] - 7s 33ms/step - loss: 0.1177 - accuracy: 0.9545 - auc: 0.9876 - val_loss: 0.0619 - val_accuracy: 0.9770 - val_auc: 0.9952\n",
      "\n",
      "Epoch 00050: val_loss did not improve from 0.06021\n",
      "Epoch 51/100\n",
      "206/206 [==============================] - 7s 33ms/step - loss: 0.1183 - accuracy: 0.9549 - auc: 0.9876 - val_loss: 0.0617 - val_accuracy: 0.9763 - val_auc: 0.9951\n",
      "\n",
      "Epoch 00051: ReduceLROnPlateau reducing learning rate to 1.0000000656873453e-06.\n",
      "\n",
      "Epoch 00051: val_loss did not improve from 0.06021\n",
      "Epoch 52/100\n",
      "206/206 [==============================] - 7s 33ms/step - loss: 0.1159 - accuracy: 0.9555 - auc: 0.9878 - val_loss: 0.0621 - val_accuracy: 0.9770 - val_auc: 0.9948\n",
      "\n",
      "Epoch 00052: val_loss did not improve from 0.06021\n",
      "Epoch 53/100\n",
      "206/206 [==============================] - 7s 34ms/step - loss: 0.1167 - accuracy: 0.9551 - auc: 0.9876 - val_loss: 0.0613 - val_accuracy: 0.9772 - val_auc: 0.9949\n",
      "\n",
      "Epoch 00053: val_loss did not improve from 0.06021\n",
      "Epoch 54/100\n",
      "206/206 [==============================] - 8s 37ms/step - loss: 0.1173 - accuracy: 0.9554 - auc: 0.9874 - val_loss: 0.0614 - val_accuracy: 0.9768 - val_auc: 0.9949\n",
      "\n",
      "Epoch 00054: val_loss did not improve from 0.06021\n",
      "Epoch 55/100\n",
      "206/206 [==============================] - 8s 37ms/step - loss: 0.1163 - accuracy: 0.9544 - auc: 0.9876 - val_loss: 0.0610 - val_accuracy: 0.9774 - val_auc: 0.9949\n",
      "\n",
      "Epoch 00055: val_loss did not improve from 0.06021\n",
      "Epoch 56/100\n",
      "206/206 [==============================] - 7s 34ms/step - loss: 0.1179 - accuracy: 0.9535 - auc: 0.9875 - val_loss: 0.0614 - val_accuracy: 0.9772 - val_auc: 0.9949\n",
      "\n",
      "Epoch 00056: val_loss did not improve from 0.06021\n",
      "Epoch 57/100\n",
      "206/206 [==============================] - 7s 33ms/step - loss: 0.1179 - accuracy: 0.9543 - auc: 0.9873 - val_loss: 0.0618 - val_accuracy: 0.9763 - val_auc: 0.9949\n",
      "\n",
      "Epoch 00057: val_loss did not improve from 0.06021\n",
      "Epoch 58/100\n",
      "206/206 [==============================] - 7s 35ms/step - loss: 0.1150 - accuracy: 0.9545 - auc: 0.9880 - val_loss: 0.0613 - val_accuracy: 0.9766 - val_auc: 0.9949\n",
      "\n",
      "Epoch 00058: ReduceLROnPlateau reducing learning rate to 1e-06.\n",
      "\n",
      "Epoch 00058: val_loss did not improve from 0.06021\n",
      "Epoch 59/100\n",
      "206/206 [==============================] - 7s 35ms/step - loss: 0.1131 - accuracy: 0.9558 - auc: 0.9883 - val_loss: 0.0616 - val_accuracy: 0.9763 - val_auc: 0.9949\n",
      "\n",
      "Epoch 00059: val_loss did not improve from 0.06021\n",
      "Epoch 60/100\n",
      "206/206 [==============================] - 7s 33ms/step - loss: 0.1161 - accuracy: 0.9558 - auc: 0.9877 - val_loss: 0.0616 - val_accuracy: 0.9768 - val_auc: 0.9949\n",
      "\n",
      "Epoch 00060: val_loss did not improve from 0.06021\n",
      "Epoch 00060: early stopping\n"
     ]
    }
   ],
   "source": [
    "results = model.fit(traingen, validation_data=valgen,\n",
    "                    epochs=100,\n",
    "                    callbacks=callbacks)"
   ]
  },
  {
   "cell_type": "markdown",
   "id": "54fc6cb9-2148-434f-9e9f-4890f920546b",
   "metadata": {},
   "source": [
    "# Test"
   ]
  },
  {
   "cell_type": "code",
   "execution_count": 269,
   "id": "4b64eab3-b4e1-437d-827b-6dd7307c1db2",
   "metadata": {
    "tags": []
   },
   "outputs": [
    {
     "name": "stderr",
     "output_type": "stream",
     "text": [
      "1000it [01:34, 10.59it/s]\n"
     ]
    }
   ],
   "source": [
    "model = load_model('models/check6/model1.h5')\n",
    "\n",
    "preds = []\n",
    "\n",
    "for f, p in tqdm(zip(test.filename.iloc[:1000], test.path.iloc[:1000])):\n",
    "    \n",
    "    temp = []\n",
    "    \n",
    "    X = cv2.imread(p).copy()\n",
    "    \n",
    "    for q in range(8):\n",
    "        \n",
    "        Xaug = augment_image(X)\n",
    "        \n",
    "        X2 = Xaug / 255.\n",
    "        \n",
    "        pred = model.predict(X2[np.newaxis, ...])[0, 1]\n",
    "        \n",
    "        temp.append(pred)\n",
    "        \n",
    "    preds.append(np.array(temp))"
   ]
  },
  {
   "cell_type": "code",
   "execution_count": 275,
   "id": "d152e481-478e-4266-bd03-ef4290ca65b8",
   "metadata": {},
   "outputs": [
    {
     "name": "stderr",
     "output_type": "stream",
     "text": [
      "686it [01:42,  6.69it/s]\n"
     ]
    }
   ],
   "source": [
    "model = load_model('models/check6/model1.h5')\n",
    "\n",
    "preds2 = []\n",
    "\n",
    "for f, p in tqdm(zip(test[test.filename.isin(imgs_ex)].filename, test[test.filename.isin(imgs_ex)].path)):\n",
    "    \n",
    "    temp = []\n",
    "    \n",
    "    X = cv2.imread(p).copy()\n",
    "    \n",
    "    X2 = X / 255.\n",
    "        \n",
    "    pred = model.predict(X2[np.newaxis, ...])[0, 1]\n",
    "        \n",
    "    temp.append(pred)\n",
    "    \n",
    "    for i in range(7):\n",
    "        \n",
    "        Xaug = augment_image(X)\n",
    "        \n",
    "        X2 = Xaug / 255.\n",
    "        \n",
    "        pred = model.predict(X2[np.newaxis, ...])[0, 1]\n",
    "        \n",
    "        temp.append(pred)\n",
    "            \n",
    "    preds2.append(np.mean(np.array(temp)))"
   ]
  },
  {
   "cell_type": "code",
   "execution_count": 270,
   "id": "bb273a39-6431-448b-9d12-0897465880b7",
   "metadata": {},
   "outputs": [
    {
     "data": {
      "text/plain": [
       "(1000, 8)"
      ]
     },
     "execution_count": 270,
     "metadata": {},
     "output_type": "execute_result"
    }
   ],
   "source": [
    "preds = np.array(preds)\n",
    "preds.shape"
   ]
  },
  {
   "cell_type": "code",
   "execution_count": 276,
   "id": "dabcc3fb-ce8c-49ff-8830-d82937d18c75",
   "metadata": {},
   "outputs": [
    {
     "data": {
      "text/plain": [
       "(686,)"
      ]
     },
     "execution_count": 276,
     "metadata": {},
     "output_type": "execute_result"
    }
   ],
   "source": [
    "preds2 = np.array(preds2)\n",
    "preds2.shape"
   ]
  },
  {
   "cell_type": "code",
   "execution_count": 333,
   "id": "c096d52a-afc2-43ea-91e7-764b7cabeafb",
   "metadata": {},
   "outputs": [],
   "source": [
    "sub = sample_sub.copy()\n",
    "\n",
    "sub.loc[sub.index < 1000, 'sign'] = [np.mean(pred) for pred in preds]\n",
    "\n",
    "sub.loc[(sub.index < 1000)&(sub.sign < 0.15), 'sign'] = 0\n",
    "sub.loc[(sub.index < 1000)&(sub.sign > 0.99), 'sign'] = 1\n",
    "\n",
    "sub.loc[sub.filename.isin(imgs_ex), 'sign'] = preds2\n",
    "\n",
    "sub.loc[(sub.index >= 1000)&(sub.sign > 0.1), 'sign'] = 1\n",
    "sub.loc[(sub.index >= 1000)&(sub.sign < 0.1), 'sign'] = 0"
   ]
  },
  {
   "cell_type": "code",
   "execution_count": 338,
   "id": "c5efcc2a-3803-4e20-8656-2a0f7ee6c59f",
   "metadata": {},
   "outputs": [],
   "source": [
    "sub.to_csv('sub_last_5.csv', index=False)"
   ]
  },
  {
   "cell_type": "code",
   "execution_count": null,
   "id": "683acb3e-2ec8-44a8-ac71-4c801e8ad212",
   "metadata": {},
   "outputs": [],
   "source": []
  },
  {
   "cell_type": "code",
   "execution_count": null,
   "id": "d71f695a-5130-4e84-97c2-f8ac8b831c35",
   "metadata": {},
   "outputs": [],
   "source": []
  },
  {
   "cell_type": "code",
   "execution_count": null,
   "id": "ae5bcd95-1ca9-4747-b85e-2b1de9f80b79",
   "metadata": {},
   "outputs": [],
   "source": []
  }
 ],
 "metadata": {
  "kernelspec": {
   "display_name": "Python 3",
   "language": "python",
   "name": "python3"
  },
  "language_info": {
   "codemirror_mode": {
    "name": "ipython",
    "version": 3
   },
   "file_extension": ".py",
   "mimetype": "text/x-python",
   "name": "python",
   "nbconvert_exporter": "python",
   "pygments_lexer": "ipython3",
   "version": "3.9.5"
  }
 },
 "nbformat": 4,
 "nbformat_minor": 5
}
